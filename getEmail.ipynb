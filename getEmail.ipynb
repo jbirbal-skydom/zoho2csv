{
 "cells": [
  {
   "cell_type": "markdown",
   "id": "9e295b5e-08bd-4549-bad6-cf13c712f3e4",
   "metadata": {},
   "source": [
    "# Zoho2CSV"
   ]
  },
  {
   "cell_type": "markdown",
   "id": "c08b3a40-701a-44e5-b4fe-f8cc8b3cfb54",
   "metadata": {},
   "source": [
    "Get the email from and subjectl liens for my filters\n",
    "\n",
    "go to: \n",
    "https://api-console.zoho.com/"
   ]
  },
  {
   "cell_type": "markdown",
   "id": "aeed15c1-61dd-48fe-82c0-f0dc9358cb19",
   "metadata": {},
   "source": [
    "create a config.json and add the appripriate information:\n",
    "\n",
    "```json\n",
    "{\n",
    "  \"Echo\": \"Working\",\n",
    "  \"client_id\": \"your_client_id\",\n",
    "  \"client_secret\": \"your_client_secret\",\n",
    "  \"redirect_uri\": \"your_redirect_uri\",\n",
    "  \"scope\": \"ZohoMail.accounts.READ\",\n",
    "  \"refresh_token\": \"\"\n",
    "}\n",
    "```"
   ]
  },
  {
   "cell_type": "markdown",
   "id": "6edcf9cf-525d-4d77-b508-8c408b0874e7",
   "metadata": {
    "jp-MarkdownHeadingCollapsed": true
   },
   "source": [
    "## client - server"
   ]
  },
  {
   "cell_type": "markdown",
   "id": "a70b1ae8-7c3a-4bb1-8681-f7a3b59aa96c",
   "metadata": {},
   "source": [
    "Need a redirect URL"
   ]
  },
  {
   "cell_type": "code",
   "execution_count": null,
   "id": "ab458fa9-fa02-4142-b311-7a39b2e32804",
   "metadata": {},
   "outputs": [],
   "source": [
    "import requests\n",
    "import json\n",
    "import webbrowser\n",
    "\n",
    "# Load sensitive information from config.json\n",
    "def load_config():\n",
    "    with open(\"config.json\", \"r\") as file:\n",
    "        return json.load(file)\n",
    "\n"
   ]
  },
  {
   "cell_type": "code",
   "execution_count": null,
   "id": "8d42649a-ff46-4064-9b88-f0ef578996ab",
   "metadata": {},
   "outputs": [],
   "source": [
    "# Load sensitive information from config.json\n",
    "def load_config():\n",
    "    with open(\"config.json\", \"r\") as file:\n",
    "        return json.load(file)\n"
   ]
  },
  {
   "cell_type": "code",
   "execution_count": null,
   "id": "e5e81cf4-b872-4ccb-9b2f-534970c02c69",
   "metadata": {},
   "outputs": [],
   "source": [
    "\n",
    "# Save access and refresh tokens to config.json\n",
    "def save_tokens(tokens):\n",
    "    with open(\"config.json\", \"r+\") as file:\n",
    "        data = json.load(file)\n",
    "        data['access_token'] = tokens['access_token']\n",
    "        data['refresh_token'] = tokens['refresh_token']\n",
    "        file.seek(0)\n",
    "        json.dump(data, file, indent=4)\n"
   ]
  },
  {
   "cell_type": "code",
   "execution_count": null,
   "id": "97d0bff7-5af1-40be-b3b0-a6c94c544900",
   "metadata": {},
   "outputs": [],
   "source": [
    "def get_authorization_code():\n",
    "    config = load_config()  # Ensure config.json has the correct client_id\n",
    "    print (config['Echo'])\n",
    "    auth_url = (\n",
    "        f\"https://accounts.zoho.com/oauth/v2/auth\"\n",
    "        f\"?response_type=code\"\n",
    "        f\"&client_id={config['client_id']}\"\n",
    "        f\"&scope={config['scope']}\"\n",
    "        f\"&redirect_uri={config['redirect_uri']}\"\n",
    "        f\"&access_type=offline\"\n",
    "    )\n",
    "    print(f\"Open this URL to authorize the app:\\n{auth_url}\")\n",
    "    webbrowser.open(auth_url)\n",
    "    authorization_code = input(\"Enter the authorization code from the URL: \")\n",
    "    return authorization_code\n"
   ]
  },
  {
   "cell_type": "code",
   "execution_count": null,
   "id": "6a30767c-34a3-4e16-8f71-7c477920f883",
   "metadata": {},
   "outputs": [],
   "source": [
    "# Step 2: Exchange authorization code for access token and refresh token\n",
    "def get_tokens(authorization_code):\n",
    "    config = load_config()\n",
    "    token_url = \"https://accounts.zoho.com/oauth/v2/token\"\n",
    "    payload = {\n",
    "        \"code\": authorization_code,\n",
    "        \"grant_type\": \"authorization_code\",\n",
    "        \"client_id\": config['client_id'],\n",
    "        \"client_secret\": config['client_secret'],\n",
    "        \"redirect_uri\": config['redirect_uri']\n",
    "    }\n",
    "    response = requests.post(token_url, data=payload)\n",
    "    if response.status_code == 200:\n",
    "        tokens = response.json()\n",
    "        save_tokens(tokens)\n",
    "        print(\"Access and refresh tokens saved successfully.\")\n",
    "    else:\n",
    "        print(\"Failed to get tokens:\", response.text)\n"
   ]
  },
  {
   "cell_type": "code",
   "execution_count": null,
   "id": "d31bc5aa-e172-446e-999b-d96f63024aa9",
   "metadata": {},
   "outputs": [],
   "source": [
    "# Step 3: Make API requests using the access token\n",
    "def make_api_request():\n",
    "    config = load_config()\n",
    "    api_url = \"https://mail.zoho.com/api/accounts\"\n",
    "    headers = {\n",
    "        \"Authorization\": f\"Zoho-oauthtoken {config['access_token']}\"\n",
    "    }\n",
    "    response = requests.get(api_url, headers=headers)\n",
    "    if response.status_code == 200:\n",
    "        print(\"API request successful!\")\n",
    "        print(response.json())\n",
    "    else:\n",
    "        print(\"API request failed:\", response.text)\n"
   ]
  },
  {
   "cell_type": "code",
   "execution_count": null,
   "id": "3784794f-d2fc-49db-9f45-a88e850426f7",
   "metadata": {},
   "outputs": [],
   "source": [
    "# Refresh the access token when expired\n",
    "def refresh_access_token():\n",
    "    config = load_config()\n",
    "    token_url = \"https://accounts.zoho.com/oauth/v2/token\"\n",
    "    payload = {\n",
    "        \"refresh_token\": config['refresh_token'],\n",
    "        \"grant_type\": \"refresh_token\",\n",
    "        \"client_id\": config['client_id'],\n",
    "        \"client_secret\": config['client_secret']\n",
    "    }\n",
    "    response = requests.post(token_url, data=payload)\n",
    "    if response.status_code == 200:\n",
    "        tokens = response.json()\n",
    "        save_tokens(tokens)\n",
    "        print(\"Access token refreshed successfully.\")\n",
    "    else:\n",
    "        print(\"Failed to refresh access token:\", response.text)\n",
    "\n"
   ]
  },
  {
   "cell_type": "code",
   "execution_count": null,
   "id": "de76d390-ebcf-4257-bd0d-a724d196296a",
   "metadata": {},
   "outputs": [],
   "source": [
    "# Main flow\n",
    "if __name__ == \"__main__\":\n",
    "    # Step 1: Get authorization code manually by visiting the URL\n",
    "    authorization_code = get_authorization_code()\n",
    "\n"
   ]
  },
  {
   "cell_type": "code",
   "execution_count": null,
   "id": "876118ff-43a8-4ff2-8e33-c7461e60716d",
   "metadata": {},
   "outputs": [],
   "source": [
    "    # Step 2: Exchange authorization code for tokens\n",
    "    get_tokens(authorization_code)\n"
   ]
  },
  {
   "cell_type": "code",
   "execution_count": null,
   "id": "6f01b97b-6d67-46de-a49c-b196dba50325",
   "metadata": {},
   "outputs": [],
   "source": [
    "    # Step 3: Use the access token to make API requests\n",
    "    make_api_request()"
   ]
  },
  {
   "cell_type": "markdown",
   "id": "413ae172-c19f-4219-937a-4e151c389c44",
   "metadata": {},
   "source": [
    "## self client"
   ]
  },
  {
   "cell_type": "code",
   "execution_count": 1,
   "id": "bb314382-62a6-4539-ab0e-7c6f0beec425",
   "metadata": {},
   "outputs": [],
   "source": [
    "import requests\n",
    "import json\n",
    "\n",
    "# Load sensitive information from config.json\n",
    "def load_config():\n",
    "    with open(\"config.json\", \"r\") as file:\n",
    "        return json.load(file)\n",
    "\n",
    "# Save access and refresh tokens to config.json\n",
    "def save_tokens(tokens):\n",
    "    with open(\"config.json\", \"r+\") as file:\n",
    "        data = json.load(file)\n",
    "        data['access_token'] = tokens['access_token']\n",
    "        data['refresh_token'] = tokens['refresh_token']\n",
    "        file.seek(0)\n",
    "        json.dump(data, file, indent=4)\n",
    "\n",
    "\n"
   ]
  },
  {
   "cell_type": "code",
   "execution_count": 2,
   "id": "2e9da9a6-4a36-4ed0-a7a1-724f21b2fe11",
   "metadata": {},
   "outputs": [],
   "source": [
    "def get_tokens(authorization_code):\n",
    "    config = load_config()\n",
    "    token_url = \"https://accounts.zoho.com/oauth/v2/token\"\n",
    "    payload = {\n",
    "        \"code\": authorization_code,\n",
    "        \"grant_type\": \"authorization_code\",\n",
    "        \"client_id\": config['client_id'],\n",
    "        \"client_secret\": config['client_secret'],\n",
    "        \"redirect_uri\": config['redirect_uri']  # This can be a static value if not needed\n",
    "    }\n",
    "    response = requests.post(token_url, data=payload)\n",
    "    print(\"Response Status Code:\", response.status_code)\n",
    "    print(\"Response Content:\", response.text)  # Print full response for debugging\n",
    "    \n",
    "    if response.status_code == 200:\n",
    "        tokens = response.json()\n",
    "        if 'access_token' in tokens:\n",
    "            save_tokens(tokens)\n",
    "            print(\"Access and refresh tokens saved successfully.\")\n",
    "        else:\n",
    "            print(\"Access token not found in the response. Full response:\", tokens)\n",
    "    else:\n",
    "        print(\"Failed to get tokens:\", response.text)\n"
   ]
  },
  {
   "cell_type": "code",
   "execution_count": 16,
   "id": "8ed2954d-e81e-47b7-ba90-1f5a2bfbe119",
   "metadata": {},
   "outputs": [
    {
     "name": "stdin",
     "output_type": "stream",
     "text": [
      "Enter the authorization code from Zoho Console:  1000.4f69851f72656cde3d458fe95f748e40.afcdad62ab391176b8ef551ae463bce8\n"
     ]
    },
    {
     "name": "stdout",
     "output_type": "stream",
     "text": [
      "Response Status Code: 200\n",
      "Response Content: {\"access_token\":\"1000.315b93c1a40634aa58c27749b7468f9f.f39b539e581534f795d0ea2cb60cca22\",\"refresh_token\":\"1000.bdfc2fef998f0f24447bc28406675867.a72ece486e03e51cdf561731c81636d1\",\"scope\":\"ZohoMail.accounts.READ ZohoMail.folders.READ ZohoMail.messages.READ\",\"api_domain\":\"https://www.zohoapis.com\",\"token_type\":\"Bearer\",\"expires_in\":3600}\n",
      "Access and refresh tokens saved successfully.\n"
     ]
    }
   ],
   "source": [
    "# Main flow\n",
    "if __name__ == \"__main__\":\n",
    "    authorization_code = input(\"Enter the authorization code from Zoho Console: \")\n",
    "    get_tokens(authorization_code)"
   ]
  },
  {
   "cell_type": "markdown",
   "id": "242cb0cb-cd36-4c4f-ac52-0ea0016ceec0",
   "metadata": {},
   "source": [
    "## Make API request"
   ]
  },
  {
   "cell_type": "code",
   "execution_count": 3,
   "id": "d1d7b058-d00f-4ed6-a83a-52dac0a7f615",
   "metadata": {},
   "outputs": [],
   "source": [
    "def make_api_request():\n",
    "    config = load_config()\n",
    "    api_url = \"https://mail.zoho.com/api/accounts\"  # This endpoint retrieves your mail accounts\n",
    "    headers = {\n",
    "        \"Authorization\": f\"Zoho-oauthtoken {config['access_token']}\"\n",
    "    }\n",
    "    \n",
    "    # Make the API request\n",
    "    response = requests.get(api_url, headers=headers)\n",
    "    \n",
    "    if response.status_code == 200:\n",
    "        print(\"API request successful!\")\n",
    "        print(json.dumps(response.json(), indent=4)) # Print the response to see your mail accounts or other details\n",
    "    else:\n",
    "        print(\"API request failed:\", response.text)"
   ]
  },
  {
   "cell_type": "code",
   "execution_count": null,
   "id": "bf027cf3-7c32-4d7e-83fa-c7b2f9ce53b9",
   "metadata": {},
   "outputs": [],
   "source": [
    "make_api_request()"
   ]
  },
  {
   "cell_type": "code",
   "execution_count": 5,
   "id": "da2544d2-05f7-41c7-a68c-eb93739bcb84",
   "metadata": {},
   "outputs": [
    {
     "name": "stdin",
     "output_type": "stream",
     "text": [
      "Enter the account_id from Zoho Console:  1044620000000008003\n"
     ]
    }
   ],
   "source": [
    "account_id = input(\"Enter the account_id from Zoho Console: \")"
   ]
  },
  {
   "cell_type": "code",
   "execution_count": 6,
   "id": "11a967ae-7b08-4e79-9a12-9817683f8bb8",
   "metadata": {},
   "outputs": [],
   "source": [
    "def get_folders():\n",
    "    config = load_config()\n",
    "    api_url = f\"https://mail.zoho.com/api/accounts/{account_id}/folders\"  # Replace {account_id} with your actual account ID\n",
    "    headers = {\n",
    "        \"Authorization\": f\"Zoho-oauthtoken {config['access_token']}\"\n",
    "    }\n",
    "    \n",
    "    response = requests.get(api_url, headers=headers)\n",
    "    \n",
    "    if response.status_code == 200:\n",
    "        folders = response.json()\n",
    "        # Print all folders and find the Inbox\n",
    "        for folder in folders['data']:\n",
    "            print(f\"Folder Name: {folder['folderName']}, Folder ID: {folder['folderId']}\")\n",
    "    else:\n",
    "        print(\"Failed to fetch folders:\", response.text)"
   ]
  },
  {
   "cell_type": "code",
   "execution_count": 7,
   "id": "e6288486-7c08-4f4a-8100-1261e9faad4a",
   "metadata": {},
   "outputs": [
    {
     "name": "stdout",
     "output_type": "stream",
     "text": [
      "Folder Name: Inbox, Folder ID: 1044620000000008013\n",
      "Folder Name: Drafts, Folder ID: 1044620000000008015\n",
      "Folder Name: Templates, Folder ID: 1044620000000008017\n",
      "Folder Name: Sent, Folder ID: 1044620000000008019\n",
      "Folder Name: Spam, Folder ID: 1044620000000008021\n",
      "Folder Name: Trash, Folder ID: 1044620000000008023\n",
      "Folder Name: Outbox, Folder ID: 1044620000000008025\n",
      "Folder Name: personal, Folder ID: 1044620000000019003\n",
      "Folder Name: Sent Messages, Folder ID: 1044620000000322001\n",
      "Folder Name: Deleted Messages, Folder ID: 1044620000000348001\n",
      "Folder Name: Shipping, Folder ID: 1044620000001466001\n",
      "Folder Name: Business, Folder ID: 1044620000001793003\n",
      "Folder Name: Finance, Folder ID: 1044620000009125143\n",
      "Folder Name: Medical License, Folder ID: 1044620000009125145\n",
      "Folder Name: ASCP, Folder ID: 1044620000009125147\n",
      "Folder Name: Chase, Folder ID: 1044620000009125158\n",
      "Folder Name: PayPal, Folder ID: 1044620000009125169\n",
      "Folder Name: Bills, Folder ID: 1044620000009125191\n",
      "Folder Name: Military, Folder ID: 1044620000009125193\n",
      "Folder Name: Ebenefits, Folder ID: 1044620000009125195\n",
      "Folder Name: MyPay, Folder ID: 1044620000009125197\n",
      "Folder Name: Ads, Folder ID: 1044620000009125199\n",
      "Folder Name: Ads, Folder ID: 1044620000009125201\n",
      "Folder Name: Friends, Folder ID: 1044620000009125203\n",
      "Folder Name: Stocks, Folder ID: 1044620000009125222\n",
      "Folder Name: Other, Folder ID: 1044620000009125241\n",
      "Folder Name: MIL, Folder ID: 1044620000009125243\n",
      "Folder Name: Contracts, Folder ID: 1044620000009125254\n",
      "Folder Name: News, Folder ID: 1044620000009125309\n",
      "Folder Name: Schwab, Folder ID: 1044620000009125351\n",
      "Folder Name: Crypto, Folder ID: 1044620000009125414\n",
      "Folder Name: Retirement, Folder ID: 1044620000009125425\n",
      "Folder Name: USAA, Folder ID: 1044620000009131001\n",
      "Folder Name: GOV, Folder ID: 1044620000009151220\n",
      "Folder Name: Tax, Folder ID: 1044620000009215063\n",
      "Folder Name: Travel, Folder ID: 1044620000009252001\n",
      "Folder Name: Games, Folder ID: 1044620000009266029\n",
      "Folder Name: Health, Folder ID: 1044620000009291305\n",
      "Folder Name: To Me, Folder ID: 1044620000009291307\n",
      "Folder Name: Active, Folder ID: 1044620000009291414\n",
      "Folder Name: Education, Folder ID: 1044620000009291440\n",
      "Folder Name: Work, Folder ID: 1044620000009291762\n",
      "Folder Name: Docusign, Folder ID: 1044620000009292722\n"
     ]
    }
   ],
   "source": [
    "get_folders()"
   ]
  },
  {
   "cell_type": "code",
   "execution_count": 8,
   "id": "91d6a74b-0555-404c-962e-3077c27b1eb2",
   "metadata": {},
   "outputs": [
    {
     "name": "stdin",
     "output_type": "stream",
     "text": [
      "Enter the folder_id from Zoho Console:  1044620000000008013\n"
     ]
    }
   ],
   "source": [
    "folder_id = input(\"Enter the folder_id from Zoho Console: \")"
   ]
  },
  {
   "cell_type": "code",
   "execution_count": 9,
   "id": "133fa53d-a8be-495b-b732-7f702784b143",
   "metadata": {},
   "outputs": [],
   "source": [
    "def get_inbox_messages(account_id, folder_id):\n",
    "    config = load_config()\n",
    "    api_url = f\"https://mail.zoho.com/api/accounts/{account_id}/messages/view\"\n",
    "    headers = {\n",
    "        \"Authorization\": f\"Zoho-oauthtoken {config['access_token']}\"\n",
    "    }\n",
    "\n",
    "    # Query parameters for the inbox messages\n",
    "    params = {\n",
    "        \"folderId\": folder_id,\n",
    "        \"start\": 1,       # Start from the first email\n",
    "        \"limit\": 10,      # Retrieve 10 emails\n",
    "        \"status\": \"all\",  # Retrieve all emails (read and unread)\n",
    "        \"threadedMails\": \"false\"  # Do not retrieve threaded emails\n",
    "    }\n",
    "\n",
    "    response = requests.get(api_url, headers=headers, params=params)\n",
    "\n",
    "    if response.status_code == 200:\n",
    "        emails = response.json()['data']\n",
    "        for email in emails:\n",
    "            # Extract 'fromAddress' and 'subject' fields\n",
    "            from_address = email.get('fromAddress', 'Unknown sender')\n",
    "            subject = email.get('subject', 'No subject')\n",
    "            print(f\"From: {from_address}, Subject: {subject}\")\n",
    "    else:\n",
    "        print(\"Failed to fetch inbox emails:\", response.text)\n"
   ]
  },
  {
   "cell_type": "code",
   "execution_count": 10,
   "id": "8462b245-464a-4e96-b208-3c0144d4609a",
   "metadata": {},
   "outputs": [
    {
     "name": "stdout",
     "output_type": "stream",
     "text": [
      "From: no-reply@worldcue.worldaware.com, Subject: Warn Alert - MENA - Protests, Increased Security - Civil Unrest\n",
      "From: no-reply@worldcue.worldaware.com, Subject: Info Alert - Iraq - Mourning Period - Nationwide - Civil Unrest\n",
      "From: info@fileflorida.com, Subject: PAST DUE - ROCKLEDGE HIGH SCHOOL CLASS OF 2012 ALUMNI INC - 2024 Annual Report Filing from File Florida Co.\n",
      "From: do-not-reply@sonyb2c.onmicrosoft.com, Subject: Mã OTP xác nhận của My Sony Rewards\n",
      "From: do-not-reply@sonyb2c.onmicrosoft.com, Subject: Mã OTP xác nhận của My Sony Rewards\n",
      "From: eticket@amadeus.com, Subject: Your Electronic Receipt\n",
      "From: no-reply-vietcombank@nganluong.vn, Subject: Payment Confirmation E-Visa for register code E240920USAA3523506278\n",
      "From: e-invoice@phongvu.vn, Subject: Email hóa đơn điện tử\n",
      "From: noreply@vnticketonline.vn, Subject: [ĐSVN] Thông báo mua vé thành công\n",
      "From: zengoteam@hello.zengo.com, Subject: Enjoy 10% off Bankless Citizenship with Zengo Pro\n"
     ]
    }
   ],
   "source": [
    "get_inbox_messages(account_id, folder_id)"
   ]
  },
  {
   "cell_type": "code",
   "execution_count": 13,
   "id": "8ad56260-abdc-4105-b925-c5acfc921eb3",
   "metadata": {},
   "outputs": [],
   "source": [
    "import pandas as pd\n",
    "\n",
    "def save_inbox_messages_to_excel(account_id, folder_id):\n",
    "    config = load_config()\n",
    "    api_url = f\"https://mail.zoho.com/api/accounts/{account_id}/messages/view\"\n",
    "    headers = {\n",
    "        \"Authorization\": f\"Zoho-oauthtoken {config['access_token']}\"\n",
    "    }\n",
    "\n",
    "    params = {\n",
    "        \"folderId\": folder_id,\n",
    "        \"start\": 1,\n",
    "        \"limit\": 200,\n",
    "        \"status\": \"all\",\n",
    "        \"threadedMails\": \"false\"\n",
    "    }\n",
    "\n",
    "    response = requests.get(api_url, headers=headers, params=params)\n",
    "\n",
    "    if response.status_code == 200:\n",
    "        emails = response.json()['data']\n",
    "        # Extract email data\n",
    "        email_data = [{\"From\": email.get('fromAddress', 'Unknown sender'), \n",
    "                       \"Subject\": email.get('subject', 'No subject')} for email in emails]\n",
    "        \n",
    "        # Convert to DataFrame and save to Excel\n",
    "        df = pd.DataFrame(email_data)\n",
    "        df.to_excel('inbox_emails.xlsx', index=False)\n",
    "        print(\"Inbox emails saved to inbox_emails.xlsx\")\n",
    "    else:\n",
    "        print(\"Failed to fetch inbox emails:\", response.text)\n"
   ]
  },
  {
   "cell_type": "code",
   "execution_count": 14,
   "id": "a7b6d752-2da0-48fc-b005-2b6f753982c4",
   "metadata": {},
   "outputs": [
    {
     "name": "stdout",
     "output_type": "stream",
     "text": [
      "Inbox emails saved to inbox_emails.xlsx\n"
     ]
    }
   ],
   "source": [
    "save_inbox_messages_to_excel(account_id, folder_id)"
   ]
  },
  {
   "cell_type": "markdown",
   "id": "3cf22968-d650-450b-8405-92b820891119",
   "metadata": {},
   "source": [
    "## Batch get and organize"
   ]
  },
  {
   "cell_type": "code",
   "execution_count": 15,
   "id": "89304a7c-9ce5-46db-8abc-338dbaba622b",
   "metadata": {},
   "outputs": [],
   "source": [
    "import pandas as pd\n",
    "import time\n",
    "import re"
   ]
  },
  {
   "cell_type": "code",
   "execution_count": 16,
   "id": "300265ad-259c-4cbe-9bde-4430aefe1711",
   "metadata": {},
   "outputs": [],
   "source": [
    "# Function to fetch emails in batches of 200 with a timeout\n",
    "def fetch_emails_in_batches(account_id, folder_id, total_emails, batch_size=200, timeout=2):\n",
    "    config = load_config()\n",
    "    api_url = f\"https://mail.zoho.com/api/accounts/{account_id}/messages/view\"\n",
    "    headers = {\n",
    "        \"Authorization\": f\"Zoho-oauthtoken {config['access_token']}\"\n",
    "    }\n",
    "\n",
    "    all_emails = []\n",
    "\n",
    "    for start in range(1, total_emails, batch_size):\n",
    "        # Query parameters for the inbox messages\n",
    "        params = {\n",
    "            \"folderId\": folder_id,\n",
    "            \"start\": start,\n",
    "            \"limit\": batch_size,\n",
    "            \"status\": \"all\",\n",
    "            \"threadedMails\": \"false\"\n",
    "        }\n",
    "\n",
    "        response = requests.get(api_url, headers=headers, params=params)\n",
    "\n",
    "        if response.status_code == 200:\n",
    "            emails = response.json()['data']\n",
    "            all_emails.extend(emails)\n",
    "            print(f\"Fetched {len(emails)} emails starting from {start}\")\n",
    "        else:\n",
    "            print(f\"Failed to fetch emails starting from {start}: {response.text}\")\n",
    "            break  # Exit if there's an error fetching a batch\n",
    "\n",
    "        # Timeout between requests\n",
    "        time.sleep(timeout)\n",
    "\n",
    "    # Convert the list of emails to a DataFrame\n",
    "    email_data = [{\"From\": email.get('fromAddress', 'Unknown sender'), \n",
    "                   \"Subject\": email.get('subject', 'No subject')} for email in all_emails]\n",
    "    \n",
    "    df = pd.DataFrame(email_data)\n",
    "    return df"
   ]
  },
  {
   "cell_type": "code",
   "execution_count": 18,
   "id": "9b0da665-e6f6-479d-aa58-09421a63a298",
   "metadata": {},
   "outputs": [
    {
     "name": "stdout",
     "output_type": "stream",
     "text": [
      "Fetched 200 emails starting from 1\n",
      "Fetched 200 emails starting from 201\n",
      "Fetched 200 emails starting from 401\n",
      "Fetched 200 emails starting from 601\n",
      "Fetched 200 emails starting from 801\n",
      "Fetched 200 emails starting from 1001\n",
      "Fetched 48 emails starting from 1201\n"
     ]
    }
   ],
   "source": [
    "total_emails = 1300             # Total number of emails to fetch\n",
    "\n",
    "# Step 1: Fetch all emails in batches and store in a DataFrame\n",
    "email_df = fetch_emails_in_batches(account_id, folder_id, total_emails)"
   ]
  },
  {
   "cell_type": "code",
   "execution_count": 19,
   "id": "5e9179f2-6115-4ec5-9627-e84f42727d4c",
   "metadata": {},
   "outputs": [],
   "source": [
    "# Function to extract domain from email\n",
    "def extract_domain(email_address):\n",
    "    try:\n",
    "        domain = re.search(\"@[\\w.]+\", email_address).group()\n",
    "        return domain\n",
    "    except AttributeError:\n",
    "        return \"Unknown\"\n"
   ]
  },
  {
   "cell_type": "code",
   "execution_count": 17,
   "id": "9a97f16b-ccd5-4fb2-9e39-6a03d96166aa",
   "metadata": {},
   "outputs": [],
   "source": [
    "# Function to desensitize the data by extracting unique domains\n",
    "def desensitize_email_domains(df):\n",
    "    # Extract the domain from the 'From' email address\n",
    "    df['Domain'] = df['From'].apply(extract_domain)\n",
    "\n",
    "    # Get the unique domains\n",
    "    unique_domains_df = df[['Domain']].drop_duplicates().reset_index(drop=True)\n",
    "    \n",
    "    return unique_domains_df\n",
    "\n"
   ]
  },
  {
   "cell_type": "code",
   "execution_count": 20,
   "id": "200d237b-61e4-4bca-bf39-6fd143713cb0",
   "metadata": {},
   "outputs": [],
   "source": [
    "# Step 2: Desensitize the data by extracting unique domains\n",
    "domain_df = desensitize_email_domains(email_df)"
   ]
  },
  {
   "cell_type": "code",
   "execution_count": 21,
   "id": "582f270d-abf4-45e2-9261-e4c6045529d4",
   "metadata": {},
   "outputs": [
    {
     "data": {
      "text/html": [
       "<div>\n",
       "<style scoped>\n",
       "    .dataframe tbody tr th:only-of-type {\n",
       "        vertical-align: middle;\n",
       "    }\n",
       "\n",
       "    .dataframe tbody tr th {\n",
       "        vertical-align: top;\n",
       "    }\n",
       "\n",
       "    .dataframe thead th {\n",
       "        text-align: right;\n",
       "    }\n",
       "</style>\n",
       "<table border=\"1\" class=\"dataframe\">\n",
       "  <thead>\n",
       "    <tr style=\"text-align: right;\">\n",
       "      <th></th>\n",
       "      <th>Domain</th>\n",
       "    </tr>\n",
       "  </thead>\n",
       "  <tbody>\n",
       "    <tr>\n",
       "      <th>0</th>\n",
       "      <td>@worldcue.worldaware.com</td>\n",
       "    </tr>\n",
       "    <tr>\n",
       "      <th>1</th>\n",
       "      <td>@fileflorida.com</td>\n",
       "    </tr>\n",
       "    <tr>\n",
       "      <th>2</th>\n",
       "      <td>@sonyb2c.onmicrosoft.com</td>\n",
       "    </tr>\n",
       "    <tr>\n",
       "      <th>3</th>\n",
       "      <td>@amadeus.com</td>\n",
       "    </tr>\n",
       "    <tr>\n",
       "      <th>4</th>\n",
       "      <td>@nganluong.vn</td>\n",
       "    </tr>\n",
       "  </tbody>\n",
       "</table>\n",
       "</div>"
      ],
      "text/plain": [
       "                     Domain\n",
       "0  @worldcue.worldaware.com\n",
       "1          @fileflorida.com\n",
       "2  @sonyb2c.onmicrosoft.com\n",
       "3              @amadeus.com\n",
       "4             @nganluong.vn"
      ]
     },
     "execution_count": 21,
     "metadata": {},
     "output_type": "execute_result"
    }
   ],
   "source": [
    "# Display the unique domains\n",
    "domain_df.head()"
   ]
  },
  {
   "cell_type": "code",
   "execution_count": 22,
   "id": "33708da7-732f-4888-a339-be91c623741b",
   "metadata": {},
   "outputs": [
    {
     "name": "stdout",
     "output_type": "stream",
     "text": [
      "Unique email domains saved to unique_email_domains.xlsx\n"
     ]
    }
   ],
   "source": [
    "# Optionally save the domains to an Excel file\n",
    "domain_df.to_excel('unique_email_domains.xlsx', index=False)\n",
    "print(\"Unique email domains saved to unique_email_domains.xlsx\")"
   ]
  },
  {
   "cell_type": "code",
   "execution_count": 23,
   "id": "dc327fa3-7f1d-4713-a01b-0a072c2ebb68",
   "metadata": {},
   "outputs": [
    {
     "data": {
      "text/html": [
       "<div>\n",
       "<style scoped>\n",
       "    .dataframe tbody tr th:only-of-type {\n",
       "        vertical-align: middle;\n",
       "    }\n",
       "\n",
       "    .dataframe tbody tr th {\n",
       "        vertical-align: top;\n",
       "    }\n",
       "\n",
       "    .dataframe thead th {\n",
       "        text-align: right;\n",
       "    }\n",
       "</style>\n",
       "<table border=\"1\" class=\"dataframe\">\n",
       "  <thead>\n",
       "    <tr style=\"text-align: right;\">\n",
       "      <th></th>\n",
       "      <th>From</th>\n",
       "      <th>Subject</th>\n",
       "      <th>Domain</th>\n",
       "    </tr>\n",
       "  </thead>\n",
       "  <tbody>\n",
       "    <tr>\n",
       "      <th>0</th>\n",
       "      <td>no-reply@worldcue.worldaware.com</td>\n",
       "      <td>Warn Alert - MENA - Protests, Increased Securi...</td>\n",
       "      <td>@worldcue.worldaware.com</td>\n",
       "    </tr>\n",
       "    <tr>\n",
       "      <th>1</th>\n",
       "      <td>no-reply@worldcue.worldaware.com</td>\n",
       "      <td>Info Alert - Iraq - Mourning Period - Nationwi...</td>\n",
       "      <td>@worldcue.worldaware.com</td>\n",
       "    </tr>\n",
       "    <tr>\n",
       "      <th>2</th>\n",
       "      <td>info@fileflorida.com</td>\n",
       "      <td>PAST DUE - ROCKLEDGE HIGH SCHOOL CLASS OF 2012...</td>\n",
       "      <td>@fileflorida.com</td>\n",
       "    </tr>\n",
       "    <tr>\n",
       "      <th>3</th>\n",
       "      <td>do-not-reply@sonyb2c.onmicrosoft.com</td>\n",
       "      <td>Mã OTP xác nhận của My Sony Rewards</td>\n",
       "      <td>@sonyb2c.onmicrosoft.com</td>\n",
       "    </tr>\n",
       "    <tr>\n",
       "      <th>4</th>\n",
       "      <td>do-not-reply@sonyb2c.onmicrosoft.com</td>\n",
       "      <td>Mã OTP xác nhận của My Sony Rewards</td>\n",
       "      <td>@sonyb2c.onmicrosoft.com</td>\n",
       "    </tr>\n",
       "  </tbody>\n",
       "</table>\n",
       "</div>"
      ],
      "text/plain": [
       "                                   From  \\\n",
       "0      no-reply@worldcue.worldaware.com   \n",
       "1      no-reply@worldcue.worldaware.com   \n",
       "2                  info@fileflorida.com   \n",
       "3  do-not-reply@sonyb2c.onmicrosoft.com   \n",
       "4  do-not-reply@sonyb2c.onmicrosoft.com   \n",
       "\n",
       "                                             Subject                    Domain  \n",
       "0  Warn Alert - MENA - Protests, Increased Securi...  @worldcue.worldaware.com  \n",
       "1  Info Alert - Iraq - Mourning Period - Nationwi...  @worldcue.worldaware.com  \n",
       "2  PAST DUE - ROCKLEDGE HIGH SCHOOL CLASS OF 2012...          @fileflorida.com  \n",
       "3                Mã OTP xác nhận của My Sony Rewards  @sonyb2c.onmicrosoft.com  \n",
       "4                Mã OTP xác nhận của My Sony Rewards  @sonyb2c.onmicrosoft.com  "
      ]
     },
     "execution_count": 23,
     "metadata": {},
     "output_type": "execute_result"
    }
   ],
   "source": [
    "email_df.head()"
   ]
  },
  {
   "cell_type": "code",
   "execution_count": 24,
   "id": "e26d5c06-5297-45a4-8b51-e386e231d97e",
   "metadata": {},
   "outputs": [
    {
     "name": "stdout",
     "output_type": "stream",
     "text": [
      "Unique email domains saved to inbox_emails\n"
     ]
    }
   ],
   "source": [
    "email_df.to_excel('inbox_emails.xlsx', index=False)\n",
    "print(\"Unique email domains saved to inbox_emails\")"
   ]
  },
  {
   "cell_type": "markdown",
   "id": "e859a002-b2b7-48b3-b32e-3dfeffa11e90",
   "metadata": {},
   "source": [
    "## Categorize"
   ]
  },
  {
   "cell_type": "code",
   "execution_count": null,
   "id": "1ce3537b-f360-4adc-8216-c528df9b2d66",
   "metadata": {},
   "outputs": [],
   "source": [
    "# Defining general keywords for each category based on common associations\n",
    "category_keywords = {\n",
    "    'Document': ['document', 'file', 'attachment'],\n",
    "    'Work': ['project', 'meeting', 'deadline', 'work'],\n",
    "    'Ads_business': ['promotion', 'sale', 'offer', 'ad' \"%\" ],\n",
    "    'Education': ['school', 'class', 'education', 'course'],\n",
    "    'Active': ['active', 'account', 'status'],\n",
    "    'Health': ['health', 'wellness', 'fitness', 'doctor'],\n",
    "    'ToMe': ['personal', 'for you'],\n",
    "    'Games': ['game', 'gaming'],\n",
    "    'Travel': ['travel', 'flight', 'trip', 'hotel', 'Iraq', 'MENA'],\n",
    "    'Tax': ['tax', 'IRS', 'refund'],\n",
    "    'Gov': ['government', 'gov', 'official'],\n",
    "    'EbenefitUSAA': ['ebenefit', 'usaa', 'veteran'],\n",
    "    'Retirement': ['retirement', 'pension', '401k'],\n",
    "    'Crypto': ['crypto', 'bitcoin', 'ethereum'],\n",
    "    'Schwab': ['schwab', 'investment'],\n",
    "    'Jobs': ['job', 'career', 'hiring'],\n",
    "    'News': ['news', 'headline', 'report'],\n",
    "    'Bills': ['bill', 'invoice', 'payment due'],\n",
    "    'Shipping': ['shipping', 'delivery', 'tracking'],\n",
    "    'Other Miitary': ['military', 'defense', 'army', 'navy'],\n",
    "    'Oter Finance': ['finance', 'bank', 'loan', 'mortgage'],\n",
    "    'Stocks': ['stocks', 'shares', 'market'],\n",
    "    'ads': ['ad', 'advertisement', 'promotion'],\n",
    "    'Paypal': ['paypal'],\n",
    "    'Chase': ['chase', 'bank'],\n",
    "    'ASCP': ['ascp', 'certification'],\n",
    "    'Personal': ['personal', 'message', 'greetings']\n",
    "}\n",
    "\n",
    "# Function to categorize based on subject line\n",
    "def categorize_email(subject):\n",
    "    for category, keywords in category_keywords.items():\n",
    "        if any(keyword.lower() in str(subject).lower() for keyword in keywords):\n",
    "            return category\n",
    "    return 'Uncategorized'\n",
    "\n",
    "# Applying the function to categorize each email based on subject\n",
    "email_df['Category'] = email_df['Subject'].apply(categorize_email)"
   ]
  },
  {
   "cell_type": "markdown",
   "id": "c6091421-8071-4207-8081-6eb285eb44c7",
   "metadata": {
    "jp-MarkdownHeadingCollapsed": true
   },
   "source": [
    "## automated: "
   ]
  },
  {
   "cell_type": "code",
   "execution_count": null,
   "id": "15585fac-511b-4e76-9f19-10198b7ab38f",
   "metadata": {},
   "outputs": [],
   "source": [
    "def get_account_id():\n",
    "    config = load_config()\n",
    "    api_url = \"https://mail.zoho.com/api/accounts\"\n",
    "    headers = {\n",
    "        \"Authorization\": f\"Zoho-oauthtoken {config['access_token']}\"\n",
    "    }\n",
    "\n",
    "    response = requests.get(api_url, headers=headers)\n",
    "\n",
    "    if response.status_code == 200:\n",
    "        accounts = response.json()\n",
    "        for account in accounts['data']:\n",
    "            print(f\"Account ID: {account['accountId']}, Email Address: {account['emailAddress']}\")\n",
    "        return accounts['data'][0]['accountId']  # Return the first account ID if multiple accounts exist\n",
    "    else:\n",
    "        print(\"Failed to fetch accounts:\", response.text)\n"
   ]
  },
  {
   "cell_type": "code",
   "execution_count": null,
   "id": "ed286a31-0b68-494f-9e71-925c783c4b92",
   "metadata": {},
   "outputs": [],
   "source": [
    "def get_folders(account_id):\n",
    "    config = load_config()\n",
    "    api_url = f\"https://mail.zoho.com/api/accounts/{account_id}/folders\"\n",
    "    headers = {\n",
    "        \"Authorization\": f\"Zoho-oauthtoken {config['access_token']}\"\n",
    "    }\n",
    "\n",
    "    response = requests.get(api_url, headers=headers)\n",
    "\n",
    "    if response.status_code == 200:\n",
    "        folders = response.json()\n",
    "        for folder in folders['data']:\n",
    "            print(f\"Folder Name: {folder['folderName']}, Folder ID: {folder['folderId']}\")\n",
    "        return folders\n",
    "    else:\n",
    "        print(\"Failed to fetch folders:\", response.text)\n"
   ]
  },
  {
   "cell_type": "code",
   "execution_count": null,
   "id": "2f9be8cd-92d7-4c89-b5c5-504384e6bda3",
   "metadata": {},
   "outputs": [],
   "source": [
    "def get_inbox_messages(account_id, folder_id):\n",
    "    config = load_config()\n",
    "    api_url = f\"https://mail.zoho.com/api/accounts/{account_id}/messages/view\"\n",
    "    headers = {\n",
    "        \"Authorization\": f\"Zoho-oauthtoken {config['access_token']}\"\n",
    "    }\n",
    "\n",
    "    # Query parameters for the inbox messages\n",
    "    params = {\n",
    "        \"folderId\": folder_id,\n",
    "        \"start\": 1,       # Start from the first email\n",
    "        \"limit\": 10,      # Retrieve 10 emails\n",
    "        \"status\": \"all\",  # Retrieve all emails (read and unread)\n",
    "        \"threadedMails\": \"false\"  # Do not retrieve threaded emails\n",
    "    }\n",
    "\n",
    "    response = requests.get(api_url, headers=headers, params=params)\n",
    "\n",
    "    if response.status_code == 200:\n",
    "        emails = response.json()\n",
    "        for email in emails['data']:\n",
    "            print(f\"From: {email['from']['address']}, Subject: {email['subject']}\")\n",
    "        return emails\n",
    "    else:\n",
    "        print(\"Failed to fetch inbox emails:\", response.text)\n"
   ]
  },
  {
   "cell_type": "code",
   "execution_count": null,
   "id": "eadc06ec-359f-43c6-b754-625032dfcf12",
   "metadata": {},
   "outputs": [],
   "source": [
    "\n",
    "# Step 1: Get the account ID\n",
    "account_id = get_account_id()\n",
    "\n",
    "# Step 2: Get the folder ID for Inbox (look for the folder named 'Inbox')\n",
    "folders = get_folders(account_id)\n",
    "inbox_folder_id = None\n",
    "for folder in folders['data']:\n",
    "    if folder['folderName'].lower() == 'inbox':\n",
    "        inbox_folder_id = folder['folderId']\n",
    "        break\n",
    "\n",
    "if inbox_folder_id:\n",
    "    # Step 3: Fetch and display emails from Inbox\n",
    "    get_inbox_messages(account_id, inbox_folder_id)\n",
    "else:\n",
    "    print(\"Inbox folder not found.\")\n"
   ]
  }
 ],
 "metadata": {
  "kernelspec": {
   "display_name": "Python 3 (ipykernel)",
   "language": "python",
   "name": "python3"
  },
  "language_info": {
   "codemirror_mode": {
    "name": "ipython",
    "version": 3
   },
   "file_extension": ".py",
   "mimetype": "text/x-python",
   "name": "python",
   "nbconvert_exporter": "python",
   "pygments_lexer": "ipython3",
   "version": "3.10.14"
  }
 },
 "nbformat": 4,
 "nbformat_minor": 5
}
